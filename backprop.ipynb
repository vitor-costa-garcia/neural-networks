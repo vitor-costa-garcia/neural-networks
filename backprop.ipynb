{
 "cells": [
  {
   "cell_type": "code",
   "execution_count": 131,
   "id": "0a6ac8f4",
   "metadata": {},
   "outputs": [],
   "source": [
    "from mnist import MNIST\n",
    "import math\n",
    "import numpy as np\n",
    "    \n",
    "class HiddenLayer():\n",
    "    def __init__(self, n_outputs, n_inputs):\n",
    "        self.weights = np.random.randn(n_inputs, n_outputs) * 0.001\n",
    "        self.bias = np.zeros(n_outputs)\n",
    "\n",
    "    def activations(self, input_col):\n",
    "        z = np.dot(input_col, self.weights) + self.bias\n",
    "        return np.maximum(z, 0)\n",
    "    \n",
    "    def backpropagate(self, input_col, activations, dL_dz, lr):\n",
    "        dReLU = (activations > 0).astype(float)\n",
    "        dL_dz_h = dL_dz * dReLU\n",
    "\n",
    "        dW = np.outer(input_col, dL_dz_h)\n",
    "        db = dL_dz_h\n",
    "\n",
    "        self.weights -= lr * dW\n",
    "        self.bias -= lr * db\n",
    "\n",
    "        return np.dot(dL_dz_h, self.weights.T)\n",
    "\n",
    "\n",
    "class OutputLayer():\n",
    "    def __init__(self, n_outputs, n_inputs):\n",
    "        self.weights = np.random.randn(n_inputs, n_outputs) * 0.001\n",
    "        self.bias = np.zeros(n_outputs)\n",
    "\n",
    "    def activations(self, input_col):\n",
    "        z = np.dot(input_col, self.weights) + self.bias\n",
    "        z -= np.max(z)\n",
    "        exp_z = np.exp(z)\n",
    "        return exp_z/(np.sum(exp_z))\n",
    "    \n",
    "    def derivative_cel(self, activations, label_vector):\n",
    "        return activations - label_vector #label vector one hot encoded\n",
    "    \n",
    "    def backpropagate(self, dL_dz, lr, input_col):\n",
    "        # dL_dz is the Cross Entropy Loss derivative in relation to z for every output neuron\n",
    "        dW = np.outer(input_col, dL_dz) #Weight gradient\n",
    "        db = dL_dz # Bias gradient\n",
    "\n",
    "        self.weights -= lr * dW\n",
    "        self.bias -= lr * db\n",
    "\n",
    "        return np.dot(dL_dz, self.weights.T)\n",
    "        \n",
    "\n",
    "class LabeLOneHotEncoder():\n",
    "    def __init__(self, n):\n",
    "        self.n = n\n",
    "\n",
    "    def ohe(self, index):\n",
    "        x = np.zeros(self.n)\n",
    "        x[index] = 1\n",
    "        return x\n",
    "\n",
    "hidden_l = HiddenLayer(128, 784)\n",
    "output_l = OutputLayer(10, 128)\n",
    "ohe = LabeLOneHotEncoder(10)\n",
    "\n",
    "mndata = MNIST(\"./samples\")\n",
    "mndata.gz = True\n",
    "\n",
    "images, labels = mndata.load_training()\n",
    "\n",
    "train_img = images[:54000]\n",
    "train_label = labels[:54000]\n",
    "test_img = images[54000:]\n",
    "test_label = labels[54000:]\n",
    "\n",
    "n_epochs = 20\n",
    "\n",
    "for _ in range(n_epochs):\n",
    "    for img, lbl in zip(train_img, train_label):\n",
    "        lr = 0.0001\n",
    "        img = np.array(img)/255\n",
    "\n",
    "        lbl_i = ohe.ohe(lbl)\n",
    "\n",
    "        a_h = hidden_l.activations(img)\n",
    "        a_o = output_l.activations(a_h)\n",
    "\n",
    "        # Compute derivative of CE loss wrt output logits\n",
    "        dL_dz_output = output_l.derivative_cel(a_o, lbl_i)\n",
    "\n",
    "        # Backpropagate output layer\n",
    "        dL_da_hidden = output_l.backpropagate(dL_dz_output, lr, a_h)\n",
    "\n",
    "        # Backpropagate hidden layer\n",
    "        _ = hidden_l.backpropagate(img, a_h, dL_da_hidden, lr)"
   ]
  },
  {
   "cell_type": "code",
   "execution_count": 141,
   "id": "b5d2b0b2",
   "metadata": {},
   "outputs": [],
   "source": [
    "c_counter = 0\n",
    "for img, lbl in zip(test_img, test_label):\n",
    "    a_h = hidden_l.activations(img)\n",
    "    a_o = output_l.activations(a_h)\n",
    "    i = np.where(a_o == max(a_o))[0][0]\n",
    "    if i == lbl:\n",
    "        c_counter += 1"
   ]
  },
  {
   "cell_type": "code",
   "execution_count": 146,
   "id": "592fdc57",
   "metadata": {},
   "outputs": [
    {
     "data": {
      "text/plain": [
       "'Acurácia: 0.9261666666666667'"
      ]
     },
     "execution_count": 146,
     "metadata": {},
     "output_type": "execute_result"
    }
   ],
   "source": [
    "f\"Acurácia: {c_counter/6000}\""
   ]
  }
 ],
 "metadata": {
  "kernelspec": {
   "display_name": "Python 3",
   "language": "python",
   "name": "python3"
  },
  "language_info": {
   "codemirror_mode": {
    "name": "ipython",
    "version": 3
   },
   "file_extension": ".py",
   "mimetype": "text/x-python",
   "name": "python",
   "nbconvert_exporter": "python",
   "pygments_lexer": "ipython3",
   "version": "3.13.7"
  }
 },
 "nbformat": 4,
 "nbformat_minor": 5
}
